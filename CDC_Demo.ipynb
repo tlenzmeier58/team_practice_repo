{
 "cells": [
  {
   "cell_type": "code",
   "execution_count": 18,
   "id": "b467b336",
   "metadata": {},
   "outputs": [],
   "source": [
    "import requests\n",
    "import os\n",
    "import numpy as np\n",
    "import pandas as pd\n",
    "from sodapy import Socrata\n",
    "from pprint import pprint\n",
    "from config import census_key\n",
    "from census import Census\n",
    "c = Census(census_key, year=2019)"
   ]
  },
  {
   "cell_type": "code",
   "execution_count": null,
   "id": "db6ddeb8",
   "metadata": {},
   "outputs": [],
   "source": [
    "census_data = c.acs5.get((\"NAME\", ))"
   ]
  },
  {
   "cell_type": "code",
   "execution_count": null,
   "id": "fed2ed67",
   "metadata": {},
   "outputs": [],
   "source": [
    "client = Socrata(\"data.cdc.gov\", None)\n",
    "\n",
    "results = client.get(\"n8mc-b4w4\", limit=150000, res_state=\"MN\")"
   ]
  },
  {
   "cell_type": "code",
   "execution_count": null,
   "id": "eb3d94fb",
   "metadata": {},
   "outputs": [],
   "source": [
    "results_df = pd.DataFrame.from_records(results)\n",
    "results_df\n"
   ]
  },
  {
   "cell_type": "code",
   "execution_count": 19,
   "id": "37abf090",
   "metadata": {},
   "outputs": [],
   "source": [
    "# results_df.to_csv(\"cdc_test.csv\")\n",
    "\n",
    "\n"
   ]
  }
 ],
 "metadata": {
  "kernelspec": {
   "display_name": "Python 3 (ipykernel)",
   "language": "python",
   "name": "python3"
  },
  "language_info": {
   "codemirror_mode": {
    "name": "ipython",
    "version": 3
   },
   "file_extension": ".py",
   "mimetype": "text/x-python",
   "name": "python",
   "nbconvert_exporter": "python",
   "pygments_lexer": "ipython3",
   "version": "3.8.13"
  },
  "vscode": {
   "interpreter": {
    "hash": "7113e3970f98a4d04de61aad7e2a4e99472b30f3b9a9e79f0555aab5ccdb8ff2"
   }
  }
 },
 "nbformat": 4,
 "nbformat_minor": 5
}
