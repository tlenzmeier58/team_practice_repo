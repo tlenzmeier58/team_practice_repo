{
 "cells": [
  {
   "cell_type": "code",
   "execution_count": 1,
   "metadata": {},
   "outputs": [],
   "source": [
    "from IPython.display import Image\n",
    "import requests\n",
    "import pandas as pd\n",
    "import plotly.express as px\n",
    "import csv\n",
    "from config import census_key"
   ]
  },
  {
   "cell_type": "code",
   "execution_count": 2,
   "metadata": {},
   "outputs": [],
   "source": [
    "def json_to_dataframe(response):\n",
    "    \"\"\"\n",
    "    Convert response to dataframe\n",
    "    \"\"\"\n",
    "    return pd.DataFrame(response.json()[1:], columns=response.json()[0])"
   ]
  },
  {
   "cell_type": "code",
   "execution_count": 4,
   "metadata": {},
   "outputs": [],
   "source": [
    "url = \"https://api.census.gov/data/2019/pep/charage?get=NAME,POP&DATE_CODE=8,9,10,11,12&DATE_DESC&for=us:*&key={0}\".format(census_key)\n",
    "\n",
    "response = requests.request(\"GET\", url)\n",
    "#response.text"
   ]
  },
  {
   "cell_type": "code",
   "execution_count": 5,
   "metadata": {},
   "outputs": [
    {
     "data": {
      "text/html": [
       "<div>\n",
       "<style scoped>\n",
       "    .dataframe tbody tr th:only-of-type {\n",
       "        vertical-align: middle;\n",
       "    }\n",
       "\n",
       "    .dataframe tbody tr th {\n",
       "        vertical-align: top;\n",
       "    }\n",
       "\n",
       "    .dataframe thead th {\n",
       "        text-align: right;\n",
       "    }\n",
       "</style>\n",
       "<table border=\"1\" class=\"dataframe\">\n",
       "  <thead>\n",
       "    <tr style=\"text-align: right;\">\n",
       "      <th></th>\n",
       "      <th>NAME</th>\n",
       "      <th>POP</th>\n",
       "      <th>DATE_CODE</th>\n",
       "      <th>DATE_DESC</th>\n",
       "      <th>us</th>\n",
       "    </tr>\n",
       "  </thead>\n",
       "  <tbody>\n",
       "    <tr>\n",
       "      <th>0</th>\n",
       "      <td>United States</td>\n",
       "      <td>320635163</td>\n",
       "      <td>8</td>\n",
       "      <td>7/1/2015 Population Estimate</td>\n",
       "      <td>1</td>\n",
       "    </tr>\n",
       "    <tr>\n",
       "      <th>1</th>\n",
       "      <td>United States</td>\n",
       "      <td>322941311</td>\n",
       "      <td>9</td>\n",
       "      <td>7/1/2016 Population Estimate</td>\n",
       "      <td>1</td>\n",
       "    </tr>\n",
       "    <tr>\n",
       "      <th>2</th>\n",
       "      <td>United States</td>\n",
       "      <td>324985539</td>\n",
       "      <td>10</td>\n",
       "      <td>7/1/2017 Population Estimate</td>\n",
       "      <td>1</td>\n",
       "    </tr>\n",
       "    <tr>\n",
       "      <th>3</th>\n",
       "      <td>United States</td>\n",
       "      <td>326687501</td>\n",
       "      <td>11</td>\n",
       "      <td>7/1/2018 Population Estimate</td>\n",
       "      <td>1</td>\n",
       "    </tr>\n",
       "    <tr>\n",
       "      <th>4</th>\n",
       "      <td>United States</td>\n",
       "      <td>328239523</td>\n",
       "      <td>12</td>\n",
       "      <td>7/1/2019 Population Estimate</td>\n",
       "      <td>1</td>\n",
       "    </tr>\n",
       "  </tbody>\n",
       "</table>\n",
       "</div>"
      ],
      "text/plain": [
       "            NAME        POP DATE_CODE                     DATE_DESC us\n",
       "0  United States  320635163         8  7/1/2015 Population Estimate  1\n",
       "1  United States  322941311         9  7/1/2016 Population Estimate  1\n",
       "2  United States  324985539        10  7/1/2017 Population Estimate  1\n",
       "3  United States  326687501        11  7/1/2018 Population Estimate  1\n",
       "4  United States  328239523        12  7/1/2019 Population Estimate  1"
      ]
     },
     "execution_count": 5,
     "metadata": {},
     "output_type": "execute_result"
    }
   ],
   "source": [
    "json_to_dataframe(response)"
   ]
  },
  {
   "cell_type": "code",
   "execution_count": 6,
   "metadata": {},
   "outputs": [],
   "source": [
    "# By state\n",
    "url_state = \"https://api.census.gov/data/2019/pep/charage?get=NAME,POP&for=state:*&key={0}\".format(census_key)\n",
    "response = requests.request(\"GET\", url_state)"
   ]
  },
  {
   "cell_type": "code",
   "execution_count": 7,
   "metadata": {},
   "outputs": [
    {
     "name": "stdout",
     "output_type": "stream",
     "text": [
      "Top 5 states with largest population estimate:\n"
     ]
    },
    {
     "data": {
      "text/html": [
       "<div>\n",
       "<style scoped>\n",
       "    .dataframe tbody tr th:only-of-type {\n",
       "        vertical-align: middle;\n",
       "    }\n",
       "\n",
       "    .dataframe tbody tr th {\n",
       "        vertical-align: top;\n",
       "    }\n",
       "\n",
       "    .dataframe thead th {\n",
       "        text-align: right;\n",
       "    }\n",
       "</style>\n",
       "<table border=\"1\" class=\"dataframe\">\n",
       "  <thead>\n",
       "    <tr style=\"text-align: right;\">\n",
       "      <th></th>\n",
       "      <th>NAME</th>\n",
       "      <th>POP</th>\n",
       "      <th>state</th>\n",
       "    </tr>\n",
       "  </thead>\n",
       "  <tbody>\n",
       "    <tr>\n",
       "      <th>5</th>\n",
       "      <td>California</td>\n",
       "      <td>39512223</td>\n",
       "      <td>06</td>\n",
       "    </tr>\n",
       "    <tr>\n",
       "      <th>44</th>\n",
       "      <td>Texas</td>\n",
       "      <td>28995881</td>\n",
       "      <td>48</td>\n",
       "    </tr>\n",
       "    <tr>\n",
       "      <th>10</th>\n",
       "      <td>Florida</td>\n",
       "      <td>21477737</td>\n",
       "      <td>12</td>\n",
       "    </tr>\n",
       "    <tr>\n",
       "      <th>33</th>\n",
       "      <td>New York</td>\n",
       "      <td>19453561</td>\n",
       "      <td>36</td>\n",
       "    </tr>\n",
       "    <tr>\n",
       "      <th>39</th>\n",
       "      <td>Pennsylvania</td>\n",
       "      <td>12801989</td>\n",
       "      <td>42</td>\n",
       "    </tr>\n",
       "  </tbody>\n",
       "</table>\n",
       "</div>"
      ],
      "text/plain": [
       "            NAME       POP state\n",
       "5     California  39512223    06\n",
       "44         Texas  28995881    48\n",
       "10       Florida  21477737    12\n",
       "33      New York  19453561    36\n",
       "39  Pennsylvania  12801989    42"
      ]
     },
     "execution_count": 7,
     "metadata": {},
     "output_type": "execute_result"
    }
   ],
   "source": [
    "df_pop_by_state = json_to_dataframe(response)\n",
    "\n",
    "df_pop_by_state['POP'] = df_pop_by_state['POP'].astype(int)\n",
    "df_pop_by_state_sort = df_pop_by_state.sort_values(by=['POP'], ascending=False).head(5)\n",
    "print('Top 5 states with largest population estimate:')\n",
    "df_pop_by_state_sort"
   ]
  },
  {
   "cell_type": "code",
   "execution_count": 8,
   "metadata": {},
   "outputs": [
    {
     "name": "stdout",
     "output_type": "stream",
     "text": [
      "list of top 5 states: ['06', '48', '12', '36', '42']\n"
     ]
    }
   ],
   "source": [
    "top_5_state_list = df_pop_by_state_sort['state'].tolist()\n",
    "\n",
    "print('list of top 5 states:', top_5_state_list)"
   ]
  },
  {
   "cell_type": "code",
   "execution_count": 9,
   "metadata": {},
   "outputs": [
    {
     "name": "stdout",
     "output_type": "stream",
     "text": [
      "list of states as one string: 06,48,12,36,42\n"
     ]
    }
   ],
   "source": [
    "state_str = ','.join(top_5_state_list)\n",
    "print('list of states as one string:', state_str)"
   ]
  },
  {
   "cell_type": "code",
   "execution_count": 10,
   "metadata": {},
   "outputs": [
    {
     "data": {
      "text/html": [
       "<div>\n",
       "<style scoped>\n",
       "    .dataframe tbody tr th:only-of-type {\n",
       "        vertical-align: middle;\n",
       "    }\n",
       "\n",
       "    .dataframe tbody tr th {\n",
       "        vertical-align: top;\n",
       "    }\n",
       "\n",
       "    .dataframe thead th {\n",
       "        text-align: right;\n",
       "    }\n",
       "</style>\n",
       "<table border=\"1\" class=\"dataframe\">\n",
       "  <thead>\n",
       "    <tr style=\"text-align: right;\">\n",
       "      <th></th>\n",
       "      <th>NAME</th>\n",
       "      <th>POP</th>\n",
       "      <th>AGE</th>\n",
       "      <th>state</th>\n",
       "    </tr>\n",
       "  </thead>\n",
       "  <tbody>\n",
       "    <tr>\n",
       "      <th>0</th>\n",
       "      <td>New York</td>\n",
       "      <td>227902</td>\n",
       "      <td>16</td>\n",
       "      <td>36</td>\n",
       "    </tr>\n",
       "    <tr>\n",
       "      <th>1</th>\n",
       "      <td>Pennsylvania</td>\n",
       "      <td>154083</td>\n",
       "      <td>16</td>\n",
       "      <td>42</td>\n",
       "    </tr>\n",
       "    <tr>\n",
       "      <th>2</th>\n",
       "      <td>Texas</td>\n",
       "      <td>414872</td>\n",
       "      <td>16</td>\n",
       "      <td>48</td>\n",
       "    </tr>\n",
       "    <tr>\n",
       "      <th>3</th>\n",
       "      <td>California</td>\n",
       "      <td>501846</td>\n",
       "      <td>16</td>\n",
       "      <td>06</td>\n",
       "    </tr>\n",
       "    <tr>\n",
       "      <th>4</th>\n",
       "      <td>Florida</td>\n",
       "      <td>234530</td>\n",
       "      <td>16</td>\n",
       "      <td>12</td>\n",
       "    </tr>\n",
       "  </tbody>\n",
       "</table>\n",
       "</div>"
      ],
      "text/plain": [
       "           NAME     POP AGE state\n",
       "0      New York  227902  16    36\n",
       "1  Pennsylvania  154083  16    42\n",
       "2         Texas  414872  16    48\n",
       "3    California  501846  16    06\n",
       "4       Florida  234530  16    12"
      ]
     },
     "execution_count": 10,
     "metadata": {},
     "output_type": "execute_result"
    }
   ],
   "source": [
    "url = \"https://api.census.gov/data/2019/pep/charage?get=NAME,POP&AGE=16&for=state:{0}&key={1}\".format(state_str, census_key)\n",
    "\n",
    "response = requests.request(\"GET\", url)\n",
    "json_to_dataframe(response)"
   ]
  },
  {
   "cell_type": "code",
   "execution_count": 12,
   "metadata": {},
   "outputs": [],
   "source": [
    "url = \"https://api.census.gov/data/2019/pep/charage?get=NAME,POP&HISP=1,2&DATE_CODE=7,8,9,10,11,12&DATE_DESC&for=state:06&key={0}\".format(census_key)\n",
    "response = requests.request(\"GET\", url)"
   ]
  },
  {
   "cell_type": "code",
   "execution_count": 13,
   "metadata": {},
   "outputs": [
    {
     "data": {
      "text/html": [
       "<div>\n",
       "<style scoped>\n",
       "    .dataframe tbody tr th:only-of-type {\n",
       "        vertical-align: middle;\n",
       "    }\n",
       "\n",
       "    .dataframe tbody tr th {\n",
       "        vertical-align: top;\n",
       "    }\n",
       "\n",
       "    .dataframe thead th {\n",
       "        text-align: right;\n",
       "    }\n",
       "</style>\n",
       "<table border=\"1\" class=\"dataframe\">\n",
       "  <thead>\n",
       "    <tr style=\"text-align: right;\">\n",
       "      <th></th>\n",
       "      <th>NAME</th>\n",
       "      <th>POP</th>\n",
       "      <th>HISP</th>\n",
       "      <th>DATE_CODE</th>\n",
       "      <th>DATE_DESC</th>\n",
       "      <th>state</th>\n",
       "    </tr>\n",
       "  </thead>\n",
       "  <tbody>\n",
       "    <tr>\n",
       "      <th>0</th>\n",
       "      <td>California</td>\n",
       "      <td>23751059</td>\n",
       "      <td>1</td>\n",
       "      <td>7</td>\n",
       "      <td>7/1/2014 Population Estimate</td>\n",
       "      <td>06</td>\n",
       "    </tr>\n",
       "    <tr>\n",
       "      <th>1</th>\n",
       "      <td>California</td>\n",
       "      <td>14845913</td>\n",
       "      <td>2</td>\n",
       "      <td>7</td>\n",
       "      <td>7/1/2014 Population Estimate</td>\n",
       "      <td>06</td>\n",
       "    </tr>\n",
       "    <tr>\n",
       "      <th>2</th>\n",
       "      <td>California</td>\n",
       "      <td>23887418</td>\n",
       "      <td>1</td>\n",
       "      <td>8</td>\n",
       "      <td>7/1/2015 Population Estimate</td>\n",
       "      <td>06</td>\n",
       "    </tr>\n",
       "    <tr>\n",
       "      <th>3</th>\n",
       "      <td>California</td>\n",
       "      <td>15030627</td>\n",
       "      <td>2</td>\n",
       "      <td>8</td>\n",
       "      <td>7/1/2015 Population Estimate</td>\n",
       "      <td>06</td>\n",
       "    </tr>\n",
       "    <tr>\n",
       "      <th>4</th>\n",
       "      <td>California</td>\n",
       "      <td>23961388</td>\n",
       "      <td>1</td>\n",
       "      <td>9</td>\n",
       "      <td>7/1/2016 Population Estimate</td>\n",
       "      <td>06</td>\n",
       "    </tr>\n",
       "  </tbody>\n",
       "</table>\n",
       "</div>"
      ],
      "text/plain": [
       "         NAME       POP HISP DATE_CODE                     DATE_DESC state\n",
       "0  California  23751059    1         7  7/1/2014 Population Estimate    06\n",
       "1  California  14845913    2         7  7/1/2014 Population Estimate    06\n",
       "2  California  23887418    1         8  7/1/2015 Population Estimate    06\n",
       "3  California  15030627    2         8  7/1/2015 Population Estimate    06\n",
       "4  California  23961388    1         9  7/1/2016 Population Estimate    06"
      ]
     },
     "execution_count": 13,
     "metadata": {},
     "output_type": "execute_result"
    }
   ],
   "source": [
    "df_hisp_by_year = json_to_dataframe(response)\n",
    "df_hisp_by_year.head()"
   ]
  },
  {
   "cell_type": "code",
   "execution_count": null,
   "metadata": {},
   "outputs": [],
   "source": []
  }
 ],
 "metadata": {
  "kernelspec": {
   "display_name": "Python 3 (ipykernel)",
   "language": "python",
   "name": "python3"
  },
  "language_info": {
   "codemirror_mode": {
    "name": "ipython",
    "version": 3
   },
   "file_extension": ".py",
   "mimetype": "text/x-python",
   "name": "python",
   "nbconvert_exporter": "python",
   "pygments_lexer": "ipython3",
   "version": "3.8.13"
  },
  "vscode": {
   "interpreter": {
    "hash": "7113e3970f98a4d04de61aad7e2a4e99472b30f3b9a9e79f0555aab5ccdb8ff2"
   }
  }
 },
 "nbformat": 4,
 "nbformat_minor": 2
}
